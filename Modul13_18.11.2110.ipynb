{
 "cells": [
  {
   "cell_type": "markdown",
   "id": "c2be42f1",
   "metadata": {},
   "source": [
    "Nama  : Riyan Dicky Satria\n",
    "NIM   : 18.11.2110"
   ]
  },
  {
   "cell_type": "markdown",
   "id": "d24a594e",
   "metadata": {},
   "source": [
    "Pokok Bahasan 1 :Representasi Data"
   ]
  },
  {
   "cell_type": "markdown",
   "id": "7620809d",
   "metadata": {},
   "source": [
    "1.2 Daftar Pertanyaan\n",
    "\n",
    "    1.Apakah fungsi melakukan representasi data pada data mining ?\n",
    "      untuk  membuat  visualisasi, Terdapat  dua  konsep     \n",
    "      visualisasi,  yaitu  scientific visualisation dan information \n",
    "      visualisation. Keduanya membuat model grafis dan menyajikan \n",
    "      data secara visual yang berinteraksi langsung dengan pengguna \n",
    "      untuk melakukan eksplorasi dan memperoleh informasi yang \n",
    "      terdapat dalam data.\n",
    "      \n",
    "    2.Bagaimanakah cara melakukan representasi data ke dalam \n",
    "      bentuk visual?\n",
    "      dengan menggunakan libary Matplotlib dan Seaborn,begitu \n",
    "      juga pandas dan numpy."
   ]
  },
  {
   "cell_type": "markdown",
   "id": "914b3c0e",
   "metadata": {},
   "source": [
    "Kompetensi 1 :Data Representation"
   ]
  },
  {
   "cell_type": "markdown",
   "id": "556ae4c0",
   "metadata": {},
   "source": [
    "D.Latihan 1.1"
   ]
  },
  {
   "cell_type": "markdown",
   "id": "0a0b81db",
   "metadata": {},
   "source": [
    "1.Jelaskan maksud dari bentuk visualisasi data umur berikut!"
   ]
  },
  {
   "cell_type": "markdown",
   "id": "62685280",
   "metadata": {},
   "source": [
    "jawab :\n",
    "    Bentuk visualisasi data umur penumpang titanic terbagi dalam 5 dimensi,yaitu :\n",
    " - Nilai Minimmal  : 1 Tahun\n",
    " - Nilai Kuartil 1 : 20 Tahun\n",
    " - Nilai Kuartil 2 : 29 Tahun\n",
    " - Nilai Kuartil 3 : 39 Tahun\n",
    " - Nilai Maksimal  : 68 Tahun\n",
    "\n"
   ]
  },
  {
   "cell_type": "markdown",
   "id": "3833cfa4",
   "metadata": {},
   "source": [
    "2.Dengan menggunakan bentuk diagram scatter tampilkan sebaran hubungan antara kelas penumpang (Pclass) dengan jenis kelamin penumpang !"
   ]
  },
  {
   "cell_type": "code",
   "execution_count": 1,
   "id": "88114daa",
   "metadata": {},
   "outputs": [
    {
     "name": "stdout",
     "output_type": "stream",
     "text": [
      "Collecting matplotlib\n",
      "  Downloading matplotlib-3.4.2-cp39-cp39-win_amd64.whl (7.1 MB)\n",
      "Requirement already satisfied: numpy>=1.16 in c:\\users\\user\\appdata\\local\\packages\\pythonsoftwarefoundation.python.3.9_qbz5n2kfra8p0\\localcache\\local-packages\\python39\\site-packages (from matplotlib) (1.21.0)\n",
      "Requirement already satisfied: python-dateutil>=2.7 in c:\\users\\user\\appdata\\local\\packages\\pythonsoftwarefoundation.python.3.9_qbz5n2kfra8p0\\localcache\\local-packages\\python39\\site-packages (from matplotlib) (2.8.1)\n",
      "Collecting cycler>=0.10\n",
      "  Downloading cycler-0.10.0-py2.py3-none-any.whl (6.5 kB)\n",
      "Collecting pillow>=6.2.0\n",
      "  Downloading Pillow-8.3.1-1-cp39-cp39-win_amd64.whl (3.2 MB)\n",
      "Collecting kiwisolver>=1.0.1\n",
      "  Downloading kiwisolver-1.3.1-cp39-cp39-win_amd64.whl (51 kB)\n",
      "Requirement already satisfied: pyparsing>=2.2.1 in c:\\users\\user\\appdata\\local\\packages\\pythonsoftwarefoundation.python.3.9_qbz5n2kfra8p0\\localcache\\local-packages\\python39\\site-packages (from matplotlib) (2.4.7)\n",
      "Requirement already satisfied: six in c:\\users\\user\\appdata\\local\\packages\\pythonsoftwarefoundation.python.3.9_qbz5n2kfra8p0\\localcache\\local-packages\\python39\\site-packages (from cycler>=0.10->matplotlib) (1.16.0)\n",
      "Installing collected packages: pillow, kiwisolver, cycler, matplotlib\n",
      "Successfully installed cycler-0.10.0 kiwisolver-1.3.1 matplotlib-3.4.2 pillow-8.3.1\n",
      "Note: you may need to restart the kernel to use updated packages.\n"
     ]
    }
   ],
   "source": [
    "pip install matplotlib"
   ]
  },
  {
   "cell_type": "code",
   "execution_count": 26,
   "id": "fe806917",
   "metadata": {},
   "outputs": [
    {
     "data": {
      "image/png": "[encoded data removed]",
      "text/plain": [
       "<Figure size 72x432 with 1 Axes>"
      ]
     },
     "metadata": {
      "needs_background": "light"
     },
     "output_type": "display_data"
    }
   ],
   "source": [
    "import json\n",
    "import pandas as pd\n",
    "import pymongo\n",
    "from bson.json_util import dumps\n",
    "import matplotlib.pyplot as plt\n",
    "import seaborn as sns\n",
    "\n",
    "myclient   =   pymongo.MongoClient(\"mongodb://localhost:27017\")   #   server mongoDB\n",
    "mydb = myclient[\"titanic\"] # nama database\n",
    "mycol = mydb[\"passengers\"] # nama collection\n",
    "\n",
    "query = mycol.find({},{ 'Pclass': 1, '_id': 0, 'Sex':1 })\n",
    "list_cur = list(query)\n",
    "df = pd.DataFrame(list_cur)\n",
    "df = df.fillna(method='pad').head(500)\n",
    "# Seaborn\n",
    "f, ax1 = plt.subplots(1,figsize=(1, 6), sharex=False)\n",
    "sns.scatterplot(x=df[\"Pclass\"], y=df['Sex'],\n",
    "                alpha=.2, hue_norm=(-1, 1), edgecolor=\".7\", palette=\"muted\",\n",
    "                size_norm=(-.2, .8), data=df, ax=ax1, s=50)\n",
    "ax1.set_ylabel(\"Pclass\")\n",
    "ax1.set_title('Hubungan Antara Kelas Penumpang dengan Jenis Kelamin Penumpang\\n', size=16)\n",
    "sns.despine(bottom=True) # Remove the top and right spines from plot(s)"
   ]
  },
  {
   "cell_type": "markdown",
   "id": "bb337c9d",
   "metadata": {},
   "source": [
    "3.Apa yang dapat disimpulkan dari diagram soal nomor 2?"
   ]
  },
  {
   "cell_type": "markdown",
   "id": "20732f13",
   "metadata": {},
   "source": [
    "jawab :\n",
    "dari diagram diatas data tersebut bersifat linear tidak ada hubungan antar kelas."
   ]
  },
  {
   "cell_type": "markdown",
   "id": "c94c7785",
   "metadata": {},
   "source": [
    "4.Tuliskan kode untuk menampilkan bentuk diagram histogram dibawah ini!"
   ]
  },
  {
   "cell_type": "code",
   "execution_count": 5,
   "id": "32355643",
   "metadata": {},
   "outputs": [
    {
     "name": "stdout",
     "output_type": "stream",
     "text": [
      "Collecting seaborn\n",
      "  Downloading seaborn-0.11.1-py3-none-any.whl (285 kB)\n",
      "Collecting scipy>=1.0\n",
      "  Downloading scipy-1.7.0-cp39-cp39-win_amd64.whl (33.8 MB)\n",
      "Requirement already satisfied: numpy>=1.15 in c:\\users\\user\\appdata\\local\\packages\\pythonsoftwarefoundation.python.3.9_qbz5n2kfra8p0\\localcache\\local-packages\\python39\\site-packages (from seaborn) (1.21.0)\n",
      "Requirement already satisfied: matplotlib>=2.2 in c:\\users\\user\\appdata\\local\\packages\\pythonsoftwarefoundation.python.3.9_qbz5n2kfra8p0\\localcache\\local-packages\\python39\\site-packages (from seaborn) (3.4.2)\n",
      "Requirement already satisfied: pandas>=0.23 in c:\\users\\user\\appdata\\local\\packages\\pythonsoftwarefoundation.python.3.9_qbz5n2kfra8p0\\localcache\\local-packages\\python39\\site-packages (from seaborn) (1.2.5)\n",
      "Requirement already satisfied: cycler>=0.10 in c:\\users\\user\\appdata\\local\\packages\\pythonsoftwarefoundation.python.3.9_qbz5n2kfra8p0\\localcache\\local-packages\\python39\\site-packages (from matplotlib>=2.2->seaborn) (0.10.0)\n",
      "Requirement already satisfied: kiwisolver>=1.0.1 in c:\\users\\user\\appdata\\local\\packages\\pythonsoftwarefoundation.python.3.9_qbz5n2kfra8p0\\localcache\\local-packages\\python39\\site-packages (from matplotlib>=2.2->seaborn) (1.3.1)\n",
      "Requirement already satisfied: pillow>=6.2.0 in c:\\users\\user\\appdata\\local\\packages\\pythonsoftwarefoundation.python.3.9_qbz5n2kfra8p0\\localcache\\local-packages\\python39\\site-packages (from matplotlib>=2.2->seaborn) (8.3.1)\n",
      "Requirement already satisfied: pyparsing>=2.2.1 in c:\\users\\user\\appdata\\local\\packages\\pythonsoftwarefoundation.python.3.9_qbz5n2kfra8p0\\localcache\\local-packages\\python39\\site-packages (from matplotlib>=2.2->seaborn) (2.4.7)\n",
      "Requirement already satisfied: python-dateutil>=2.7 in c:\\users\\user\\appdata\\local\\packages\\pythonsoftwarefoundation.python.3.9_qbz5n2kfra8p0\\localcache\\local-packages\\python39\\site-packages (from matplotlib>=2.2->seaborn) (2.8.1)\n",
      "Requirement already satisfied: six in c:\\users\\user\\appdata\\local\\packages\\pythonsoftwarefoundation.python.3.9_qbz5n2kfra8p0\\localcache\\local-packages\\python39\\site-packages (from cycler>=0.10->matplotlib>=2.2->seaborn) (1.16.0)\n",
      "Requirement already satisfied: pytz>=2017.3 in c:\\users\\user\\appdata\\local\\packages\\pythonsoftwarefoundation.python.3.9_qbz5n2kfra8p0\\localcache\\local-packages\\python39\\site-packages (from pandas>=0.23->seaborn) (2021.1)\n",
      "Installing collected packages: scipy, seaborn\n",
      "Successfully installed scipy-1.7.0 seaborn-0.11.1\n",
      "Note: you may need to restart the kernel to use updated packages.\n"
     ]
    }
   ],
   "source": [
    "pip install seaborn"
   ]
  },
  {
   "cell_type": "code",
   "execution_count": 14,
   "id": "f35227ea",
   "metadata": {},
   "outputs": [
    {
     "data": {
      "image/png": "[encoded data removed]",
      "text/plain": [
       "<Figure size 1080x360 with 1 Axes>"
      ]
     },
     "metadata": {
      "needs_background": "light"
     },
     "output_type": "display_data"
    }
   ],
   "source": [
    "import json\n",
    "import pandas as pd\n",
    "import seaborn as sns\n",
    "import pymongo as pym\n",
    "import matplotlib.pyplot as plt\n",
    "from bson.json_util import dumps\n",
    "\n",
    "client = pym.MongoClient(\"mongodb://127.0.0.1:27017\")\n",
    "db     = client[\"titanic\"]\n",
    "coll   = db[\"passengers\"]\n",
    "\n",
    "cursor = coll.find()\n",
    "result_cursor = list(cursor)\n",
    "\n",
    "df     = pd.DataFrame(result_cursor)\n",
    "df\n",
    "\n",
    "f, x = plt.subplots(1, figsize=(15,5), sharex=False)\n",
    "sns.histplot(\n",
    "    x=df['Age'].astype(float), \n",
    "    hue = \"Survived\", \n",
    "    multiple = \"dodge\",\n",
    "    data = df, \n",
    "    shrink = .5, \n",
    "    binwidth = 10)\n",
    "x.set_title(\n",
    "    'Frekuensi Penumpang Selamat dan Meninggal dengan Umur Penumpang Titanic', \n",
    "    size = 16)\n",
    "sns.despine(bottom = True)"
   ]
  },
  {
   "cell_type": "markdown",
   "id": "51451ba9",
   "metadata": {},
   "source": [
    "5.Apa yang bisa disimpulkan dari bentuk diagram nomor 4?"
   ]
  },
  {
   "cell_type": "markdown",
   "id": "d09151a4",
   "metadata": {},
   "source": [
    "jawab :\n",
    "Dari diagram diatas dapat kita simpulkan bahwa penumpang yang paling banyak meninggal dari umur 0-70 tahun ialah usia 20 tahun dengan korban sebanyak 140 penumpang dan yang selamat sebanyak 80 penumpang kemudian diikuti dengan usia 30 tahun dan 10 tahun. dan di usia 10 tahun ke bawah banyak yang selamat dibandingkan dengan yang meninggal tetapi penumpang paling banyak yang selamat ada di usia 20 tahun dan usia 30 tahun. "
   ]
  },
  {
   "cell_type": "markdown",
   "id": "4bb73548",
   "metadata": {},
   "source": [
    "E.Kesimpulan (minimum 3 baris)\n",
    "  \n",
    "    Representasi Data memiliki fungsi untuk memvisualisasikan data kedalam bentuk diagram atau sejenisnya agar dapat dengan mudah untuk dibaca dan dipahami.\n",
    "    Terdapat 2 cara dalam visualisasi data, yaitu  scientific visualisation dan Informatic visualisation,Keduanya membuat model grafis dan menyajikan data secara visual yang berinteraksi langsung dengan pengguna untuk melakukan eksplorasi dan memperoleh informasi yang terdapat dalam data. Dalam melakukan  visualisasi  data  pada  Python, library  yang  paling  populer dipergunakan  adalah  Matplotlib  dan  Seaborn.\n"
   ]
  }
 ],
 "metadata": {
  "kernelspec": {
   "display_name": "Python 3",
   "language": "python",
   "name": "python3"
  },
  "language_info": {
   "codemirror_mode": {
    "name": "ipython",
    "version": 3
   },
   "file_extension": ".py",
   "mimetype": "text/x-python",
   "name": "python",
   "nbconvert_exporter": "python",
   "pygments_lexer": "ipython3",
   "version": "3.9.5"
  }
 },
 "nbformat": 4,
 "nbformat_minor": 5
}
